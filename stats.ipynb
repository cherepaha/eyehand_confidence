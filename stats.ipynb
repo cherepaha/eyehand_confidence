{
 "cells": [
  {
   "cell_type": "code",
   "execution_count": 2,
   "metadata": {
    "collapsed": true
   },
   "outputs": [],
   "source": [
    "import statsmodels.formula.api as smf\n",
    "import data_reader, trajectory_plotter\n",
    "\n",
    "dr = data_reader.DataReader()\n",
    "tp = trajectory_plotter.TrajectoryPlotter()\n",
    "choices, dynamics, gamble = dr.get_data(path='../../data/HEM_AK/processed/')"
   ]
  },
  {
   "cell_type": "code",
   "execution_count": 9,
   "metadata": {},
   "outputs": [],
   "source": [
    "import numpy as np\n",
    "\n",
    "choices['subj_id'] = choices.index.get_level_values('subj_id')\n",
    "choices['log_RT'] = np.log(choices.response_time)"
   ]
  },
  {
   "cell_type": "code",
   "execution_count": 13,
   "metadata": {},
   "outputs": [
    {
     "name": "stdout",
     "output_type": "stream",
     "text": [
      "             Mixed Linear Model Regression Results\n",
      "===============================================================\n",
      "Model:              MixedLM   Dependent Variable:   response   \n",
      "No. Observations:   14784     Method:               REML       \n",
      "No. Groups:         28        Scale:                7552.2757  \n",
      "Min. group size:    528       Likelihood:           -87023.7630\n",
      "Max. group size:    528       Converged:            Yes        \n",
      "Mean group size:    528.0                                      \n",
      "---------------------------------------------------------------\n",
      "                     Coef.  Std.Err.   z    P>|z| [0.025 0.975]\n",
      "---------------------------------------------------------------\n",
      "Intercept            55.824    3.646 15.310 0.000 48.678 62.971\n",
      "coherence            27.092    8.563  3.164 0.002 10.310 43.875\n",
      "max_d                 0.018    0.002  9.962 0.000  0.014  0.021\n",
      "log_RT               18.853    1.455 12.955 0.000 16.001 21.706\n",
      "gamble_value_zscore   2.390    0.749  3.189 0.001  0.921  3.859\n",
      "groups RE           286.260    0.945                           \n",
      "===============================================================\n",
      "\n"
     ]
    }
   ],
   "source": [
    "# formula = \"response ~ coherence*max_d*log_RT*gamble_value_zscore\"\n",
    "formula = \"response ~ coherence+max_d+log_RT+gamble_value_zscore\"\n",
    "md  = smf.mixedlm(formula, choices, groups=choices['subj_id'])\n",
    "mdf = md.fit()\n",
    "print(mdf.summary())"
   ]
  }
 ],
 "metadata": {
  "kernelspec": {
   "display_name": "Python 3",
   "language": "python",
   "name": "python3"
  },
  "language_info": {
   "codemirror_mode": {
    "name": "ipython",
    "version": 3
   },
   "file_extension": ".py",
   "mimetype": "text/x-python",
   "name": "python",
   "nbconvert_exporter": "python",
   "pygments_lexer": "ipython3",
   "version": "3.6.2"
  }
 },
 "nbformat": 4,
 "nbformat_minor": 2
}
